{
 "cells": [
  {
   "cell_type": "code",
   "execution_count": 1,
   "metadata": {},
   "outputs": [],
   "source": [
    "import pandas as pd\n",
    "import numpy as np\n",
    "from scipy.sparse import csr_matrix\n",
    "from sklearn.metrics.pairwise import cosine_similarity\n",
    "from sklearn.neighbors import KNeighborsClassifier\n",
    "from sklearn.metrics import confusion_matrix\n",
    "from sklearn.metrics import classification_report\n",
    "import sklearn.metrics as metrics\n",
    "import scipy as sp\n",
    "%matplotlib inline\n",
    "import matplotlib.pyplot as plt\n",
    "from collections import defaultdict\n",
    "from sklearn.cluster import DBSCAN\n",
    "import random\n",
    "from kmodes.kmodes import KModes"
   ]
  },
  {
   "cell_type": "code",
   "execution_count": 2,
   "metadata": {},
   "outputs": [
    {
     "name": "stdout",
     "output_type": "stream",
     "text": [
      "                   business_id                     name               address  \\\n",
      "0       6iYb2HFDywm3zjuRg0shjw      Oskar Blues Taproom          921 Pearl St   \n",
      "1       tCbdrRPZA0oiIYSmHG3J0w  Flying Elephants at PDX   7000 NE Airport Way   \n",
      "2       bvN78flM8NLprQ1a1y5dRg           The Reclaimory    4720 Hawthorne Ave   \n",
      "3       oaepsyvc0J17qwi8cfrOWg              Great Clips    2566 Enterprise Rd   \n",
      "4       PE9uqAjdw0E4-8mjGl3wVA        Crossfit Terminus   1046 Memorial Dr SE   \n",
      "...                        ...                      ...                   ...   \n",
      "160580  D2mHoIDXx9N8mS1pGoKV9Q       Eleven Oaks Realty                         \n",
      "160581  bQX-kwVTyZgcdZGEPzce6Q             Webb's Honey    21777 State Rd 520   \n",
      "160582  wvFZ06nmPmQ2-IVoPqVYLA    Painting with a Twist  2164 S Chickasaw Trl   \n",
      "160583  GB75wPibj3IjNauaoCxyGA              Havana Cafe        910 NW 14th St   \n",
      "160584  ngmLL5Y5OT-bYHKU0kKrYA              Zora Grille   1370 E Altamonte Dr   \n",
      "\n",
      "                     city state postal_code   latitude   longitude  stars  \\\n",
      "0                 Boulder    CO       80302  40.017544 -105.283348    4.0   \n",
      "1                Portland    OR       97218  45.588906 -122.593331    4.0   \n",
      "2                Portland    OR       97214  45.511907 -122.613693    4.5   \n",
      "3             Orange City    FL       32763  28.914482  -81.295979    3.0   \n",
      "4                 Atlanta    GA       30316  33.747027  -84.353424    4.0   \n",
      "...                   ...   ...         ...        ...         ...    ...   \n",
      "160580             Austin    TX       78701  30.272921  -97.744386    4.0   \n",
      "160581            Orlando    FL       32833  28.499836  -81.047478    4.5   \n",
      "160582            Orlando    FL       32825  28.511615  -81.270020    5.0   \n",
      "160583           Portland    OR       97209  45.529647 -122.685153    4.0   \n",
      "160584  Altamonte Springs    FL       32701  28.663047  -81.346728    4.5   \n",
      "\n",
      "        review_count  is_open  \\\n",
      "0                 86        1   \n",
      "1                126        1   \n",
      "2                 13        1   \n",
      "3                  8        1   \n",
      "4                 14        1   \n",
      "...              ...      ...   \n",
      "160580             8        1   \n",
      "160581            18        1   \n",
      "160582             8        0   \n",
      "160583            10        1   \n",
      "160584            82        0   \n",
      "\n",
      "                                               attributes  \\\n",
      "0       {'RestaurantsTableService': 'True', 'WiFi': 'u...   \n",
      "1       {'RestaurantsTakeOut': 'True', 'RestaurantsAtt...   \n",
      "2       {'BusinessAcceptsCreditCards': 'True', 'Restau...   \n",
      "3       {'RestaurantsPriceRange2': '1', 'BusinessAccep...   \n",
      "4       {'GoodForKids': 'False', 'BusinessParking': '{...   \n",
      "...                                                   ...   \n",
      "160580                                               None   \n",
      "160581  {'RestaurantsTakeOut': 'True', 'RestaurantsPri...   \n",
      "160582  {'DogsAllowed': 'False', 'ByAppointmentOnly': ...   \n",
      "160583  {'RestaurantsTakeOut': 'True', 'RestaurantsDel...   \n",
      "160584  {'RestaurantsReservations': 'True', 'OutdoorSe...   \n",
      "\n",
      "                                               categories  \\\n",
      "0       Gastropubs, Food, Beer Gardens, Restaurants, B...   \n",
      "1       Salad, Soup, Sandwiches, Delis, Restaurants, C...   \n",
      "2       Antiques, Fashion, Used, Vintage & Consignment...   \n",
      "3                              Beauty & Spas, Hair Salons   \n",
      "4       Gyms, Active Life, Interval Training Gyms, Fit...   \n",
      "...                                                   ...   \n",
      "160580  Real Estate, Real Estate Services, Home Servic...   \n",
      "160581      Health Markets, Food, Specialty Food, Grocery   \n",
      "160582  Arts & Entertainment, Paint & Sip, Art Classes...   \n",
      "160583              Cuban, Sandwiches, Restaurants, Cafes   \n",
      "160584  Restaurants, Middle Eastern, Mediterranean, Pe...   \n",
      "\n",
      "                                                    hours  \n",
      "0       {'Monday': '11:0-23:0', 'Tuesday': '11:0-23:0'...  \n",
      "1       {'Monday': '5:0-18:0', 'Tuesday': '5:0-17:0', ...  \n",
      "2       {'Thursday': '11:0-18:0', 'Friday': '11:0-18:0...  \n",
      "3                                                    None  \n",
      "4       {'Monday': '16:0-19:0', 'Tuesday': '16:0-19:0'...  \n",
      "...                                                   ...  \n",
      "160580  {'Monday': '9:0-19:0', 'Tuesday': '9:0-19:0', ...  \n",
      "160581  {'Monday': '10:0-18:0', 'Tuesday': '10:0-18:0'...  \n",
      "160582  {'Monday': '0:0-0:0', 'Wednesday': '12:0-17:0'...  \n",
      "160583                                               None  \n",
      "160584  {'Tuesday': '17:0-21:0', 'Wednesday': '17:0-21...  \n",
      "\n",
      "[160585 rows x 14 columns]\n"
     ]
    }
   ],
   "source": [
    "# IMPORT DATA\n",
    "\n",
    "df = pd.read_json('yelp_dataset/yelp_academic_dataset_business.json', lines=True)\n",
    "print(df)"
   ]
  },
  {
   "cell_type": "code",
   "execution_count": 3,
   "metadata": {},
   "outputs": [
    {
     "name": "stdout",
     "output_type": "stream",
     "text": [
      "['MA', 'OR', 'TX', 'FL', 'GA', 'BC', 'OH', 'CO', 'WA', 'CA']\n",
      "                   business_id                                 name  \\\n",
      "11      hCABMnKtwo4Y9alQDxh2kw         Star Kreations Salon and Spa   \n",
      "12      HPA_qyMEddpAEtFof02ixg                  Mr G's Pizza & Subs   \n",
      "18      6fT0lYr_UgWSCZs_w1PBTQ                        Salter School   \n",
      "26      hcRxdDg7DYryCxCoI8ySQA                    Longwood Galleria   \n",
      "29      jGennaZUr2MsJyRhijNBfA                      Legal Sea Foods   \n",
      "...                        ...                                  ...   \n",
      "160556  87f7kR7nTz8WHnmtLM_S6w                                 O Ya   \n",
      "160563  yQL8SrSETbbCI1U5esVJQw                  Ciao! Pizza & Pasta   \n",
      "160568  hX-wc8LoHWSWjBwZ84ANcg          Chestnut Green Dental Group   \n",
      "160569  _-nynGfhsMVVWWbAZ6YhTw                        The Jury Room   \n",
      "160579  d6iEdtgLKelWKtb-2UmE2A  Master Finish Mobile Auto Detailing   \n",
      "\n",
      "                       address     city state  stars  review_count  is_open  \\\n",
      "11      124 Newbury St, Unit C  Peabody    MA    4.0             8        1   \n",
      "12               474 Lowell St  Peabody    MA    4.0            39        1   \n",
      "18               2 Florence St   Malden    MA    2.0             5        1   \n",
      "26        340-350 Longwood Ave   Boston    MA    2.5            24        1   \n",
      "29             1 Harborside Dr   Boston    MA    3.5           856        1   \n",
      "...                        ...      ...   ...    ...           ...      ...   \n",
      "160556            9 East St Pl   Boston    MA    4.5           737        1   \n",
      "160563          59 Williams St  Chelsea    MA    5.0           733        1   \n",
      "160568    7 Federal St, Ste 32  Danvers    MA    3.0             6        1   \n",
      "160569          39 Cottage Ave   Quincy    MA    3.0            30        0   \n",
      "160579        29 Greenwood Ave  Needham    MA    1.0            11        1   \n",
      "\n",
      "                                               attributes  \\\n",
      "11      {'RestaurantsPriceRange2': '2', 'BusinessParki...   \n",
      "12      {'RestaurantsGoodForGroups': 'True', 'HasTV': ...   \n",
      "18                                                   None   \n",
      "26      {'RestaurantsPriceRange2': '1', 'BusinessAccep...   \n",
      "29      {'NoiseLevel': 'u'average'', 'BikeParking': 'F...   \n",
      "...                                                   ...   \n",
      "160556  {'RestaurantsPriceRange2': '4', 'RestaurantsGo...   \n",
      "160563  {'GoodForKids': 'True', 'RestaurantsPriceRange...   \n",
      "160568  {'ByAppointmentOnly': 'True', 'AcceptsInsuranc...   \n",
      "160569  {'BusinessParking': '{'garage': False, 'street...   \n",
      "160579             {'BusinessAcceptsCreditCards': 'True'}   \n",
      "\n",
      "                                               categories  \n",
      "11      Wigs, Hair Extensions, Hair Salons, Blow Dry/O...  \n",
      "12                               Food, Pizza, Restaurants  \n",
      "18      Specialty Schools, Massage Schools, Middle Sch...  \n",
      "26                Restaurants, Shopping, Shopping Centers  \n",
      "29      Sandwiches, Food, Restaurants, Breakfast & Bru...  \n",
      "...                                                   ...  \n",
      "160556                  Japanese, Sushi Bars, Restaurants  \n",
      "160563                        Restaurants, Pizza, Italian  \n",
      "160568      Health & Medical, Dentists, General Dentistry  \n",
      "160569             Restaurants, American (New), Nightlife  \n",
      "160579                         Automotive, Auto Detailing  \n",
      "\n",
      "[36012 rows x 10 columns]\n",
      "36012\n"
     ]
    }
   ],
   "source": [
    "# CLEAN DATA\n",
    "\n",
    "n = 10\n",
    "print(df['state'].value_counts()[:n].index.tolist())\n",
    "\n",
    "\n",
    "df_filtered = df[(df['state']=='MA')]\n",
    "df_cluster = df_filtered.filter(items=['business_id','latitude','longitude','categories'])\n",
    "df_filtered = df_filtered.filter(items=['business_id','name','address','city','state','stars','review_count','is_open','attributes','categories'])\n",
    "\n",
    "print(df_filtered)\n",
    "print(df_filtered.shape[0])\n",
    "\n",
    "\n"
   ]
  },
  {
   "cell_type": "markdown",
   "metadata": {},
   "source": [
    "## Cluster based on location"
   ]
  },
  {
   "cell_type": "code",
   "execution_count": 4,
   "metadata": {},
   "outputs": [
    {
     "data": {
      "text/html": [
       "<div>\n",
       "<style scoped>\n",
       "    .dataframe tbody tr th:only-of-type {\n",
       "        vertical-align: middle;\n",
       "    }\n",
       "\n",
       "    .dataframe tbody tr th {\n",
       "        vertical-align: top;\n",
       "    }\n",
       "\n",
       "    .dataframe thead th {\n",
       "        text-align: right;\n",
       "    }\n",
       "</style>\n",
       "<table border=\"1\" class=\"dataframe\">\n",
       "  <thead>\n",
       "    <tr style=\"text-align: right;\">\n",
       "      <th></th>\n",
       "      <th>business_id</th>\n",
       "      <th>latitude</th>\n",
       "      <th>longitude</th>\n",
       "      <th>categories</th>\n",
       "    </tr>\n",
       "  </thead>\n",
       "  <tbody>\n",
       "    <tr>\n",
       "      <td>11</td>\n",
       "      <td>hCABMnKtwo4Y9alQDxh2kw</td>\n",
       "      <td>42.534248</td>\n",
       "      <td>-70.990948</td>\n",
       "      <td>Wigs, Hair Extensions, Hair Salons, Blow Dry/O...</td>\n",
       "    </tr>\n",
       "    <tr>\n",
       "      <td>12</td>\n",
       "      <td>HPA_qyMEddpAEtFof02ixg</td>\n",
       "      <td>42.541155</td>\n",
       "      <td>-70.973438</td>\n",
       "      <td>Food, Pizza, Restaurants</td>\n",
       "    </tr>\n",
       "    <tr>\n",
       "      <td>18</td>\n",
       "      <td>6fT0lYr_UgWSCZs_w1PBTQ</td>\n",
       "      <td>42.427889</td>\n",
       "      <td>-71.073475</td>\n",
       "      <td>Specialty Schools, Massage Schools, Middle Sch...</td>\n",
       "    </tr>\n",
       "    <tr>\n",
       "      <td>26</td>\n",
       "      <td>hcRxdDg7DYryCxCoI8ySQA</td>\n",
       "      <td>42.338544</td>\n",
       "      <td>-71.106842</td>\n",
       "      <td>Restaurants, Shopping, Shopping Centers</td>\n",
       "    </tr>\n",
       "    <tr>\n",
       "      <td>29</td>\n",
       "      <td>jGennaZUr2MsJyRhijNBfA</td>\n",
       "      <td>42.363442</td>\n",
       "      <td>-71.025781</td>\n",
       "      <td>Sandwiches, Food, Restaurants, Breakfast &amp; Bru...</td>\n",
       "    </tr>\n",
       "    <tr>\n",
       "      <td>...</td>\n",
       "      <td>...</td>\n",
       "      <td>...</td>\n",
       "      <td>...</td>\n",
       "      <td>...</td>\n",
       "    </tr>\n",
       "    <tr>\n",
       "      <td>160556</td>\n",
       "      <td>87f7kR7nTz8WHnmtLM_S6w</td>\n",
       "      <td>42.351408</td>\n",
       "      <td>-71.056867</td>\n",
       "      <td>Japanese, Sushi Bars, Restaurants</td>\n",
       "    </tr>\n",
       "    <tr>\n",
       "      <td>160563</td>\n",
       "      <td>yQL8SrSETbbCI1U5esVJQw</td>\n",
       "      <td>42.389221</td>\n",
       "      <td>-71.040882</td>\n",
       "      <td>Restaurants, Pizza, Italian</td>\n",
       "    </tr>\n",
       "    <tr>\n",
       "      <td>160568</td>\n",
       "      <td>hX-wc8LoHWSWjBwZ84ANcg</td>\n",
       "      <td>42.550054</td>\n",
       "      <td>-70.944788</td>\n",
       "      <td>Health &amp; Medical, Dentists, General Dentistry</td>\n",
       "    </tr>\n",
       "    <tr>\n",
       "      <td>160569</td>\n",
       "      <td>_-nynGfhsMVVWWbAZ6YhTw</td>\n",
       "      <td>42.249118</td>\n",
       "      <td>-71.001071</td>\n",
       "      <td>Restaurants, American (New), Nightlife</td>\n",
       "    </tr>\n",
       "    <tr>\n",
       "      <td>160579</td>\n",
       "      <td>d6iEdtgLKelWKtb-2UmE2A</td>\n",
       "      <td>42.282399</td>\n",
       "      <td>-71.225169</td>\n",
       "      <td>Automotive, Auto Detailing</td>\n",
       "    </tr>\n",
       "  </tbody>\n",
       "</table>\n",
       "<p>36012 rows × 4 columns</p>\n",
       "</div>"
      ],
      "text/plain": [
       "                   business_id   latitude  longitude  \\\n",
       "11      hCABMnKtwo4Y9alQDxh2kw  42.534248 -70.990948   \n",
       "12      HPA_qyMEddpAEtFof02ixg  42.541155 -70.973438   \n",
       "18      6fT0lYr_UgWSCZs_w1PBTQ  42.427889 -71.073475   \n",
       "26      hcRxdDg7DYryCxCoI8ySQA  42.338544 -71.106842   \n",
       "29      jGennaZUr2MsJyRhijNBfA  42.363442 -71.025781   \n",
       "...                        ...        ...        ...   \n",
       "160556  87f7kR7nTz8WHnmtLM_S6w  42.351408 -71.056867   \n",
       "160563  yQL8SrSETbbCI1U5esVJQw  42.389221 -71.040882   \n",
       "160568  hX-wc8LoHWSWjBwZ84ANcg  42.550054 -70.944788   \n",
       "160569  _-nynGfhsMVVWWbAZ6YhTw  42.249118 -71.001071   \n",
       "160579  d6iEdtgLKelWKtb-2UmE2A  42.282399 -71.225169   \n",
       "\n",
       "                                               categories  \n",
       "11      Wigs, Hair Extensions, Hair Salons, Blow Dry/O...  \n",
       "12                               Food, Pizza, Restaurants  \n",
       "18      Specialty Schools, Massage Schools, Middle Sch...  \n",
       "26                Restaurants, Shopping, Shopping Centers  \n",
       "29      Sandwiches, Food, Restaurants, Breakfast & Bru...  \n",
       "...                                                   ...  \n",
       "160556                  Japanese, Sushi Bars, Restaurants  \n",
       "160563                        Restaurants, Pizza, Italian  \n",
       "160568      Health & Medical, Dentists, General Dentistry  \n",
       "160569             Restaurants, American (New), Nightlife  \n",
       "160579                         Automotive, Auto Detailing  \n",
       "\n",
       "[36012 rows x 4 columns]"
      ]
     },
     "execution_count": 4,
     "metadata": {},
     "output_type": "execute_result"
    }
   ],
   "source": [
    "df_cluster"
   ]
  },
  {
   "cell_type": "code",
   "execution_count": 5,
   "metadata": {},
   "outputs": [
    {
     "data": {
      "text/html": [
       "<div>\n",
       "<style scoped>\n",
       "    .dataframe tbody tr th:only-of-type {\n",
       "        vertical-align: middle;\n",
       "    }\n",
       "\n",
       "    .dataframe tbody tr th {\n",
       "        vertical-align: top;\n",
       "    }\n",
       "\n",
       "    .dataframe thead th {\n",
       "        text-align: right;\n",
       "    }\n",
       "</style>\n",
       "<table border=\"1\" class=\"dataframe\">\n",
       "  <thead>\n",
       "    <tr style=\"text-align: right;\">\n",
       "      <th></th>\n",
       "      <th>latitude</th>\n",
       "      <th>longitude</th>\n",
       "    </tr>\n",
       "  </thead>\n",
       "  <tbody>\n",
       "    <tr>\n",
       "      <td>11</td>\n",
       "      <td>42.534248</td>\n",
       "      <td>-70.990948</td>\n",
       "    </tr>\n",
       "    <tr>\n",
       "      <td>12</td>\n",
       "      <td>42.541155</td>\n",
       "      <td>-70.973438</td>\n",
       "    </tr>\n",
       "    <tr>\n",
       "      <td>18</td>\n",
       "      <td>42.427889</td>\n",
       "      <td>-71.073475</td>\n",
       "    </tr>\n",
       "    <tr>\n",
       "      <td>26</td>\n",
       "      <td>42.338544</td>\n",
       "      <td>-71.106842</td>\n",
       "    </tr>\n",
       "    <tr>\n",
       "      <td>29</td>\n",
       "      <td>42.363442</td>\n",
       "      <td>-71.025781</td>\n",
       "    </tr>\n",
       "    <tr>\n",
       "      <td>...</td>\n",
       "      <td>...</td>\n",
       "      <td>...</td>\n",
       "    </tr>\n",
       "    <tr>\n",
       "      <td>160556</td>\n",
       "      <td>42.351408</td>\n",
       "      <td>-71.056867</td>\n",
       "    </tr>\n",
       "    <tr>\n",
       "      <td>160563</td>\n",
       "      <td>42.389221</td>\n",
       "      <td>-71.040882</td>\n",
       "    </tr>\n",
       "    <tr>\n",
       "      <td>160568</td>\n",
       "      <td>42.550054</td>\n",
       "      <td>-70.944788</td>\n",
       "    </tr>\n",
       "    <tr>\n",
       "      <td>160569</td>\n",
       "      <td>42.249118</td>\n",
       "      <td>-71.001071</td>\n",
       "    </tr>\n",
       "    <tr>\n",
       "      <td>160579</td>\n",
       "      <td>42.282399</td>\n",
       "      <td>-71.225169</td>\n",
       "    </tr>\n",
       "  </tbody>\n",
       "</table>\n",
       "<p>36012 rows × 2 columns</p>\n",
       "</div>"
      ],
      "text/plain": [
       "         latitude  longitude\n",
       "11      42.534248 -70.990948\n",
       "12      42.541155 -70.973438\n",
       "18      42.427889 -71.073475\n",
       "26      42.338544 -71.106842\n",
       "29      42.363442 -71.025781\n",
       "...           ...        ...\n",
       "160556  42.351408 -71.056867\n",
       "160563  42.389221 -71.040882\n",
       "160568  42.550054 -70.944788\n",
       "160569  42.249118 -71.001071\n",
       "160579  42.282399 -71.225169\n",
       "\n",
       "[36012 rows x 2 columns]"
      ]
     },
     "execution_count": 5,
     "metadata": {},
     "output_type": "execute_result"
    }
   ],
   "source": [
    "df_location = df_cluster.filter(items= ['latitude','longitude'])\n",
    "df_location"
   ]
  },
  {
   "cell_type": "code",
   "execution_count": 6,
   "metadata": {},
   "outputs": [],
   "source": [
    "db = DBSCAN(eps=0.00005, min_samples=3, algorithm='ball_tree', metric='haversine').fit(np.radians(df_location))"
   ]
  },
  {
   "cell_type": "code",
   "execution_count": 7,
   "metadata": {},
   "outputs": [],
   "source": [
    "labels = db.labels_"
   ]
  },
  {
   "cell_type": "code",
   "execution_count": 8,
   "metadata": {},
   "outputs": [
    {
     "data": {
      "text/plain": [
       "array([ 0,  1,  2, ..., 19,  6, -1], dtype=int64)"
      ]
     },
     "execution_count": 8,
     "metadata": {},
     "output_type": "execute_result"
    }
   ],
   "source": [
    "labels"
   ]
  },
  {
   "cell_type": "code",
   "execution_count": 9,
   "metadata": {},
   "outputs": [],
   "source": [
    "unique_labels = set(labels)\n",
    "colors = [plt.cm.Spectral(each) for each in np.linspace(0, 1, len(unique_labels))]"
   ]
  },
  {
   "cell_type": "code",
   "execution_count": 10,
   "metadata": {},
   "outputs": [
    {
     "data": {
      "text/plain": [
       "True"
      ]
     },
     "execution_count": 10,
     "metadata": {},
     "output_type": "execute_result"
    }
   ],
   "source": [
    "-1 in labels"
   ]
  },
  {
   "cell_type": "code",
   "execution_count": null,
   "metadata": {},
   "outputs": [],
   "source": []
  },
  {
   "cell_type": "code",
   "execution_count": 11,
   "metadata": {},
   "outputs": [
    {
     "data": {
      "text/plain": [
       "42.427889"
      ]
     },
     "execution_count": 11,
     "metadata": {},
     "output_type": "execute_result"
    }
   ],
   "source": [
    "df_location.iloc(0)[2]['latitude']"
   ]
  },
  {
   "cell_type": "code",
   "execution_count": 12,
   "metadata": {},
   "outputs": [
    {
     "data": {
      "text/plain": [
       "444"
      ]
     },
     "execution_count": 12,
     "metadata": {},
     "output_type": "execute_result"
    }
   ],
   "source": [
    "len(colors)"
   ]
  },
  {
   "cell_type": "code",
   "execution_count": 13,
   "metadata": {},
   "outputs": [],
   "source": [
    "labels[1]\n",
    "random.shuffle(colors)"
   ]
  },
  {
   "cell_type": "markdown",
   "metadata": {},
   "source": [
    "Plotting for location clusters"
   ]
  },
  {
   "cell_type": "code",
   "execution_count": null,
   "metadata": {},
   "outputs": [],
   "source": [
    "plt.xlim(42,42.7)\n",
    "plt.ylim(-71.6,-70.5)\n",
    "for i in range(0,len(labels)):\n",
    "    if(labels[i] == -1):\n",
    "       c = [0,0,0,1]\n",
    "    c = colors[labels[i]]\n",
    "    x = df_location.iloc(0)[i]['latitude']\n",
    "    y = df_location.iloc(0)[i]['longitude']\n",
    "    plt.plot(x,y,'ro',color=c, markeredgecolor = 'k')"
   ]
  },
  {
   "cell_type": "markdown",
   "metadata": {},
   "source": [
    "Generate list of dataframe, each containing a cluster"
   ]
  },
  {
   "cell_type": "code",
   "execution_count": 14,
   "metadata": {},
   "outputs": [],
   "source": [
    "cluster_list = [None] * len(set(labels))\n",
    "for i in range(0,len(labels)):\n",
    "    index = labels[i]\n",
    "    if index != -1:\n",
    "        if cluster_list[index] == None:\n",
    "            cluster_list[index] = []\n",
    "            cluster_list[index].append(df_cluster.iloc(0)[i])\n",
    "        else:\n",
    "            cluster_list[index].append(df_cluster.iloc(0)[i])"
   ]
  },
  {
   "cell_type": "code",
   "execution_count": null,
   "metadata": {},
   "outputs": [],
   "source": []
  },
  {
   "cell_type": "code",
   "execution_count": null,
   "metadata": {},
   "outputs": [],
   "source": []
  },
  {
   "cell_type": "code",
   "execution_count": 15,
   "metadata": {},
   "outputs": [],
   "source": [
    "for i in range(0, len(cluster_list)):\n",
    "    df_new = pd.DataFrame(cluster_list[i])\n",
    "    cluster_list[i] = df_new"
   ]
  },
  {
   "cell_type": "markdown",
   "metadata": {},
   "source": [
    "t = np.array(cluster_list[0]['categories']).tolist()"
   ]
  },
  {
   "cell_type": "markdown",
   "metadata": {},
   "source": [
    "for i in range(0,len(t)):\n",
    "    text = t[i]\n",
    "    t[i] = [x.strip() for x in text.split(',')]\n"
   ]
  },
  {
   "cell_type": "markdown",
   "metadata": {},
   "source": [
    "unique_categories = list(set(i for j in t for i in j))\n",
    "df_test = pd.DataFrame(index = range(0,len(t)), columns = unique_categories)"
   ]
  },
  {
   "cell_type": "markdown",
   "metadata": {},
   "source": [
    "for i in range(0,len(t)):\n",
    "    for each in t[i]:\n",
    "        df_test.loc[i,each] = each\n",
    "df_test.loc[0,'Wigs']\n",
    "df_test.isnull().values.any()\n",
    "df_test"
   ]
  },
  {
   "cell_type": "markdown",
   "metadata": {},
   "source": [
    "while(df_test.isnull().values.any()==True):\n",
    "    df_test.fillna(str(random.random() * 10000),inplace=True,limit=1)"
   ]
  },
  {
   "cell_type": "markdown",
   "metadata": {},
   "source": [
    "km = KModes(n_clusters=50, init='Huang', n_init=5, verbose=1)\n",
    "clusters = km.fit_predict(df_test)"
   ]
  },
  {
   "cell_type": "markdown",
   "metadata": {},
   "source": [
    "l = [None] * len(set(clusters))\n",
    "for i in range(0,len(clusters)):\n",
    "    index = clusters[i]\n",
    "    if index != -1:\n",
    "        if l[index] == None:\n",
    "            l[index] = []\n",
    "            l[index].append(cluster_list[0].iloc(0)[i])\n",
    "        else:\n",
    "            l[index].append(cluster_list[0].iloc(0)[i])\n"
   ]
  },
  {
   "cell_type": "markdown",
   "metadata": {},
   "source": [
    "## Clustering for each location cluster"
   ]
  },
  {
   "cell_type": "markdown",
   "metadata": {},
   "source": [
    "The result is expected to be a list, with each element as a list of clusters. "
   ]
  },
  {
   "cell_type": "code",
   "execution_count": null,
   "metadata": {},
   "outputs": [
    {
     "name": "stdout",
     "output_type": "stream",
     "text": [
      "Init: initializing centroids\n",
      "Init: initializing clusters\n",
      "Starting iterations...\n",
      "Run 1, iteration: 1/100, moves: 2, cost: 19821.0\n",
      "Init: initializing centroids\n",
      "Init: initializing clusters\n",
      "Starting iterations...\n",
      "Run 2, iteration: 1/100, moves: 1, cost: 19822.0\n",
      "Init: initializing centroids\n",
      "Init: initializing clusters\n",
      "Starting iterations...\n",
      "Run 3, iteration: 1/100, moves: 0, cost: 19839.0\n",
      "Init: initializing centroids\n",
      "Init: initializing clusters\n",
      "Starting iterations...\n",
      "Run 4, iteration: 1/100, moves: 0, cost: 19839.0\n",
      "Init: initializing centroids\n",
      "Init: initializing clusters\n",
      "Starting iterations...\n",
      "Run 5, iteration: 1/100, moves: 0, cost: 19831.0\n",
      "Best run was number 1\n",
      "Init: initializing centroids\n",
      "Init: initializing clusters\n",
      "Starting iterations...\n",
      "Run 1, iteration: 1/100, moves: 0, cost: 247.0\n",
      "Init: initializing centroids\n",
      "Init: initializing clusters\n",
      "Starting iterations...\n",
      "Run 2, iteration: 1/100, moves: 0, cost: 245.0\n",
      "Init: initializing centroids\n",
      "Init: initializing clusters\n",
      "Starting iterations...\n",
      "Run 3, iteration: 1/100, moves: 0, cost: 245.0\n",
      "Init: initializing centroids\n",
      "Init: initializing clusters\n",
      "Starting iterations...\n",
      "Run 4, iteration: 1/100, moves: 0, cost: 247.0\n",
      "Init: initializing centroids\n",
      "Init: initializing clusters\n",
      "Starting iterations...\n",
      "Run 5, iteration: 1/100, moves: 0, cost: 247.0\n",
      "Best run was number 2\n",
      "Init: initializing centroids\n",
      "Init: initializing clusters\n",
      "Starting iterations...\n",
      "Run 1, iteration: 1/100, moves: 42, cost: 453743.0\n",
      "Run 1, iteration: 2/100, moves: 0, cost: 453743.0\n",
      "Init: initializing centroids\n",
      "Init: initializing clusters\n",
      "Starting iterations...\n",
      "Run 2, iteration: 1/100, moves: 40, cost: 453740.0\n",
      "Run 2, iteration: 2/100, moves: 3, cost: 453735.0\n",
      "Run 2, iteration: 3/100, moves: 0, cost: 453735.0\n",
      "Init: initializing centroids\n",
      "Init: initializing clusters\n",
      "Starting iterations...\n"
     ]
    }
   ],
   "source": [
    "res = []\n",
    "for i in range(0,len(cluster_list)):\n",
    "    t = np.array(cluster_list[i]['categories']).tolist()\n",
    "    for j in range(0,len(t)):\n",
    "        text = t[j]\n",
    "        if(text == None):\n",
    "            text = 'None'\n",
    "        t[j] = [x.strip() for x in text.split(',')]\n",
    "    unique_categories = list(set(k for j in t for k in j))\n",
    "    df_test = pd.DataFrame(index = range(0,len(t)), columns = unique_categories)\n",
    "    for j in range(0,len(t)):\n",
    "        for each in t[j]:\n",
    "            df_test.loc[j,each] = each\n",
    "    while(df_test.isnull().values.any()==True):\n",
    "        df_test.fillna(str(random.random() * 10000),inplace=True,limit=1)\n",
    "    km = KModes(n_clusters=int(min(df_test.shape[0]/3,50)), init='Huang', n_init=5, verbose=1)\n",
    "    clusters = km.fit_predict(df_test)\n",
    "    l = [None] * len(set(clusters))\n",
    "    for j in range(0,len(clusters)):\n",
    "        index = clusters[j]\n",
    "        if index != -1:\n",
    "            if l[index] == None:\n",
    "                l[index] = []\n",
    "                l[index].append(cluster_list[i].iloc(0)[j])\n",
    "            else:\n",
    "                l[index].append(cluster_list[i].iloc(0)[j])\n",
    "    res.append(l)"
   ]
  },
  {
   "cell_type": "code",
   "execution_count": null,
   "metadata": {},
   "outputs": [],
   "source": [
    "cluster_list[2]\n"
   ]
  },
  {
   "cell_type": "code",
   "execution_count": 20,
   "metadata": {},
   "outputs": [],
   "source": []
  },
  {
   "cell_type": "code",
   "execution_count": 28,
   "metadata": {},
   "outputs": [],
   "source": []
  },
  {
   "cell_type": "code",
   "execution_count": null,
   "metadata": {},
   "outputs": [],
   "source": []
  }
 ],
 "metadata": {
  "kernelspec": {
   "display_name": "Python 3",
   "language": "python",
   "name": "python3"
  },
  "language_info": {
   "codemirror_mode": {
    "name": "ipython",
    "version": 3
   },
   "file_extension": ".py",
   "mimetype": "text/x-python",
   "name": "python",
   "nbconvert_exporter": "python",
   "pygments_lexer": "ipython3",
   "version": "3.7.4"
  }
 },
 "nbformat": 4,
 "nbformat_minor": 5
}
